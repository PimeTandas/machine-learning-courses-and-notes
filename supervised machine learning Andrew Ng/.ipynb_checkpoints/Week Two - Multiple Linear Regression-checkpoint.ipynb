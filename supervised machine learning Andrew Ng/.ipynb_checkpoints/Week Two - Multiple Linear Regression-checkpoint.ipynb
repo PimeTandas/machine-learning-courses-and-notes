{
 "cells": [
  {
   "cell_type": "markdown",
   "id": "0e80651b",
   "metadata": {},
   "source": [
    "# Week Two - Multiple Linear Regression"
   ]
  },
  {
   "cell_type": "markdown",
   "id": "fb4b9aa8",
   "metadata": {},
   "source": [
    "## Importing Libraries"
   ]
  },
  {
   "cell_type": "code",
   "execution_count": 4,
   "id": "0f5bda95",
   "metadata": {},
   "outputs": [],
   "source": [
    "import pandas as pd\n",
    "import numpy as np"
   ]
  },
  {
   "cell_type": "markdown",
   "id": "81ebb58a",
   "metadata": {},
   "source": [
    "## Vector Creation\n",
    "Vectors are ordered arrays they can be of any data type but have to all be of the same type. In a maths setting a vector has a dimention of n thus runs from 1 to n, however in computing and python we will indexing from 0 to n - 1. Using this notation elements of a vectors are indexed using the vector the subscript postion of the element, for example: x<sub>i</sub>."
   ]
  },
  {
   "cell_type": "code",
   "execution_count": 6,
   "id": "f5b7910c",
   "metadata": {},
   "outputs": [
    {
     "name": "stdout",
     "output_type": "stream",
     "text": [
      "np.zeros(4) : a = [0. 0. 0. 0.], a.shape = (4,), a data type = <class 'numpy.ndarray'>\n",
      "np.zeros(4) : a = [0. 0. 0. 0.], a.shape = (4,), a data type = <class 'numpy.ndarray'>\n",
      "np.zeros(4) : a = [0.65937838 0.5730488  0.45061867 0.57697303], a.shape = (4,), a data type = <class 'numpy.ndarray'>\n"
     ]
    }
   ],
   "source": [
    "a = np.zeros(4); print(f\"np.zeros(4) : a = {a}, a.shape = {a.shape}, a data type = {type(a)}\")\n",
    "a = np.zeros((4,)); print(f\"np.zeros(4) : a = {a}, a.shape = {a.shape}, a data type = {type(a)}\")\n",
    "a = np.random.random_sample(4); print(f\"np.zeros(4) : a = {a}, a.shape = {a.shape}, a data type = {type(a)}\")"
   ]
  },
  {
   "cell_type": "code",
   "execution_count": 14,
   "id": "3482721a",
   "metadata": {},
   "outputs": [
    {
     "name": "stdout",
     "output_type": "stream",
     "text": [
      "np.zeros(4) : a = [0 1 2 3], a.shape = (4,), a data type = int32\n",
      "np.zeros(4) : a = [0.96368499 0.60969981 0.07955128 0.03336301], a.shape = (4,), a data type = float64\n"
     ]
    }
   ],
   "source": [
    "a = np.arange(4); print(f\"np.zeros(4) : a = {a}, a.shape = {a.shape}, a data type = {a.dtype}\")\n",
    "a = np.random.rand(4); print(f\"np.zeros(4) : a = {a}, a.shape = {a.shape}, a data type = {a.dtype}\")"
   ]
  },
  {
   "cell_type": "code",
   "execution_count": 15,
   "id": "01ce79c7",
   "metadata": {},
   "outputs": [
    {
     "name": "stdout",
     "output_type": "stream",
     "text": [
      "np.zeros(4) : a = [5 4 3 2], a.shape = (4,), a data type = int32\n",
      "np.zeros(4) : a = [5. 3. 3. 2.], a.shape = (4,), a data type = float64\n"
     ]
    }
   ],
   "source": [
    "a = np.array([5, 4, 3, 2]); print(f\"np.zeros(4) : a = {a}, a.shape = {a.shape}, a data type = {a.dtype}\")\n",
    "a = np.array([5., 3, 3, 2]); print(f\"np.zeros(4) : a = {a}, a.shape = {a.shape}, a data type = {a.dtype}\")"
   ]
  },
  {
   "cell_type": "markdown",
   "id": "5fb30b66",
   "metadata": {},
   "source": [
    "## Operations on Vectors"
   ]
  },
  {
   "cell_type": "code",
   "execution_count": 24,
   "id": "f97473f5",
   "metadata": {},
   "outputs": [
    {
     "name": "stdout",
     "output_type": "stream",
     "text": [
      "[0 1 2 3 4 5 6 7 8 9]\n",
      "a[2].shape = (). a[2] = 2. Accessing an element returns a scalar.\n",
      "a[-1] = 9\n",
      "index 10 is out of bounds for axis 0 with size 10\n"
     ]
    }
   ],
   "source": [
    "# Indexing.\n",
    "\n",
    "a = np.arange(10)\n",
    "print(a)\n",
    "\n",
    "# Access an element.\n",
    "print(f\"a[2].shape = {a[2].shape}. a[2] = {a[2]}. Accessing an element returns a scalar.\")\n",
    "\n",
    "# Accessing the last element in the array.\n",
    "print(f\"a[-1] = {a[-1]}\")\n",
    "\n",
    "# Indexes must be within the acceptable range of the vector or an error will be returned.\n",
    "try:\n",
    "    b = a[10]\n",
    "except Exception as e:\n",
    "    print(e)"
   ]
  },
  {
   "cell_type": "code",
   "execution_count": 34,
   "id": "fda95915",
   "metadata": {},
   "outputs": [
    {
     "name": "stdout",
     "output_type": "stream",
     "text": [
      "[0 1 2 3 4 5 6 7 8 9]\n",
      "a[2:7:1] = [2 3 4 5 6]\n",
      "a[2:7:2] = [2 4 6]\n",
      "a[3:] = [3 4 5 6 7 8 9]\n",
      "a[:3] = [0 1 2]\n",
      "a[:] = [0 1 2 3 4 5 6 7 8 9]\n"
     ]
    }
   ],
   "source": [
    "# Slicing.\n",
    "\n",
    "a = np.arange(10)\n",
    "print(a)\n",
    "\n",
    "# Accessing five conceutive elements (start:stop:step).\n",
    "c = a[2:7:1]\n",
    "print(f\"a[2:7:1] = {c}\")\n",
    "\n",
    "# Accessing 3 elements step 2 (start:stop:step).\n",
    "c = a[2:7:2]\n",
    "print(f\"a[2:7:2] = {c}\")\n",
    "\n",
    "# Access all elements index 3 and above.\n",
    "c = a[3:]\n",
    "print(f\"a[3:] = {c}\")\n",
    "\n",
    "# Access all elements below index 3 excluding 3.\n",
    "c = a[:3]\n",
    "print(f\"a[:3] = {c}\")\n",
    "\n",
    "\n",
    "# Access all elements.\n",
    "c = a[:]\n",
    "print(f\"a[:] = {c}\")\n"
   ]
  },
  {
   "cell_type": "code",
   "execution_count": 42,
   "id": "edd27637",
   "metadata": {},
   "outputs": [
    {
     "name": "stdout",
     "output_type": "stream",
     "text": [
      "[0 1 2 3 4]\n",
      "[ 0 -1 -2 -3 -4]\n",
      "10\n",
      "2.0\n",
      "[ 0  1  4  9 16]\n"
     ]
    }
   ],
   "source": [
    "# Single Vector Operations.\n",
    "\n",
    "a = np.arange(5)\n",
    "print(a)\n",
    "\n",
    "# Negative elements of a.\n",
    "print(-a)\n",
    "\n",
    "# Summing all elements returns a scalar value.\n",
    "print(np.sum(a))\n",
    "\n",
    "# Finding the mean also returns a scalar value.\n",
    "print(np.mean(a))\n",
    "\n",
    "# Finding the square of every element.\n",
    "print(a**2)"
   ]
  },
  {
   "cell_type": "code",
   "execution_count": 56,
   "id": "e406e502",
   "metadata": {},
   "outputs": [
    {
     "name": "stdout",
     "output_type": "stream",
     "text": [
      "Binary operators work element wise a+b: [0 0 6 8]\n",
      "operands could not be broadcast together with shapes (4,) (2,) \n"
     ]
    }
   ],
   "source": [
    "# Vector Vector Operations (Element-wise Operations)\n",
    "\n",
    "# Element-wise addition.\n",
    "a = np.array([1, 2, 3, 4])\n",
    "b = np.array([-1, -2, 3, 4])\n",
    "print(f\"Binary operators work element wise a+b: {a+b}\")\n",
    "\n",
    "c = np.array([1, 2])\n",
    "try:\n",
    "    d = a + c\n",
    "except Exception as e:\n",
    "    print(e)"
   ]
  },
  {
   "cell_type": "code",
   "execution_count": 61,
   "id": "c35ec923",
   "metadata": {},
   "outputs": [
    {
     "name": "stdout",
     "output_type": "stream",
     "text": [
      "a * 2 = [ 0  2  4  6  8 10 12 14 16 18]\n"
     ]
    }
   ],
   "source": [
    "# Scalar Vector Operations - Vectors can be scaled by a number using *.\n",
    "a = np.arange(10)\n",
    "b = a * 2\n",
    "print(f\"a * 2 = {b}\")"
   ]
  },
  {
   "cell_type": "code",
   "execution_count": 67,
   "id": "8eb94958",
   "metadata": {},
   "outputs": [],
   "source": [
    "# Vector Vector Dot Product.\n",
    "# The dot product multiplies the values in two vectors element-wise and then sums the result.\n",
    "# Vector dot product requires the dimensions of the two vectors to be the same. \n",
    "\n",
    "# Using a for loop to perform vector vector dot product. Assuming a and b are the same dimention.\n",
    "\n",
    "def my_dot_product(a, b):\n",
    "    \"\"\"\n",
    "    Computes the dot product of two vectors of the same dimention.\n",
    "    Args:\n",
    "     - a - np array (n, ): representing our input vector.\n",
    "     - b - np array (n, ): representing our weights in linear regression.\n",
    "    Returns:\n",
    "     - x - Scalar value.\n",
    "    \"\"\"\n",
    "    x = 0\n",
    "    for i in range(a.shape[0]):\n",
    "        x += a[i] * b[i]\n",
    "    \n",
    "    return x"
   ]
  },
  {
   "cell_type": "code",
   "execution_count": 70,
   "id": "53c0e3aa",
   "metadata": {},
   "outputs": [
    {
     "name": "stdout",
     "output_type": "stream",
     "text": [
      "my_dot_product(a, b) = 24\n"
     ]
    }
   ],
   "source": [
    "# Tesing For Loop Vector Vector Dot Product.\n",
    "a = np.array([1, 2, 3, 4])\n",
    "b = np.array([-1, 4, 3, 2])\n",
    "\n",
    "print(f\"my_dot_product(a, b) = {my_dot_product(a,b)}\")"
   ]
  },
  {
   "cell_type": "code",
   "execution_count": 71,
   "id": "5b6b2dcd",
   "metadata": {},
   "outputs": [
    {
     "name": "stdout",
     "output_type": "stream",
     "text": [
      "np.dot(a, b) = 24\n"
     ]
    }
   ],
   "source": [
    "# Performing the same dot product but with np.dot.\n",
    "a = np.array([1, 2, 3, 4])\n",
    "b = np.array([-1, 4, 3, 2])\n",
    "c = np.dot(a, b)\n",
    "\n",
    "print(f\"np.dot(a, b) = {c}\")"
   ]
  },
  {
   "cell_type": "markdown",
   "id": "15112717",
   "metadata": {},
   "source": [
    "## Computation Speed: Loop Vs Vector"
   ]
  },
  {
   "cell_type": "code",
   "execution_count": 73,
   "id": "0123d40d",
   "metadata": {},
   "outputs": [],
   "source": [
    "import time"
   ]
  },
  {
   "cell_type": "code",
   "execution_count": 75,
   "id": "556c67db",
   "metadata": {},
   "outputs": [
    {
     "name": "stdout",
     "output_type": "stream",
     "text": [
      "np.(a, b) = 2501072.581681312\n",
      "Time taken to compute = 23.761272430419922\n",
      "my_dot_product(a, b) = 2501072.5816813707\n",
      "Time taken to compute = 4158.730506896973\n"
     ]
    }
   ],
   "source": [
    "# Create two very large arrays.\n",
    "np.random.seed(1)\n",
    "a = np.random.rand(10000000)\n",
    "b = np.random.rand(10000000)\n",
    "\n",
    "# Capture time for np.dot\n",
    "tic = time.time()\n",
    "c = np.dot(a, b)\n",
    "toc = time.time()\n",
    "\n",
    "print(f\"np.(a, b) = {c}\")\n",
    "print(f\"Time taken to compute = {1000 * (toc-tic)}\")\n",
    "\n",
    "# Capture time for my_dot_product\n",
    "tic = time.time()\n",
    "c = my_dot_product(a, b)\n",
    "toc = time.time()\n",
    "\n",
    "print(f\"my_dot_product(a, b) = {c}\")\n",
    "print(f\"Time taken to compute = {1000 * (toc-tic)}\")"
   ]
  },
  {
   "cell_type": "markdown",
   "id": "cffece82",
   "metadata": {},
   "source": [
    "## Matrices\n",
    "It is common for input data (x_train) to come in the form of a vector of shape (m, ) of length m. Matrices are 2 dimentional arrays, index [m, n]. So a training set of data represented as a matrice is of length m and has n features. Thus w - our weights will come in the form of a 1 dimentional vector (n, ), representing one weight for each feature.\n",
    "\n",
    "The same functions used to create 1D vectors can be used to create 2D matrices. Here are some examples:"
   ]
  },
  {
   "cell_type": "code",
   "execution_count": 84,
   "id": "67388bc5",
   "metadata": {
    "scrolled": true
   },
   "outputs": [
    {
     "name": "stdout",
     "output_type": "stream",
     "text": [
      "a.shape = (1, 5), a = [[0. 0. 0. 0. 0.]]\n",
      "a.shape = (2, 1), a = [[0.]\n",
      " [0.]]\n",
      "a.shape = (1, 1), a = [[0.04997798]]\n"
     ]
    }
   ],
   "source": [
    "a = np.zeros((1, 5))\n",
    "print(f\"a.shape = {a.shape}, a = {a}\")\n",
    "\n",
    "a = np.zeros((2, 1))\n",
    "print(f\"a.shape = {a.shape}, a = {a}\")\n",
    "\n",
    "a = np.random.random_sample((1, 1))\n",
    "print(f\"a.shape = {a.shape}, a = {a}\")"
   ]
  },
  {
   "cell_type": "code",
   "execution_count": 87,
   "id": "09130bd6",
   "metadata": {},
   "outputs": [
    {
     "name": "stdout",
     "output_type": "stream",
     "text": [
      "a.shape = (3, 1), a = [[5]\n",
      " [4]\n",
      " [3]]\n",
      "5\n"
     ]
    }
   ],
   "source": [
    "# One can also specify data. Dimentions are determined by the use of additional brackets matching the required format.\n",
    "a = np.array([[5],[4],[3]])\n",
    "print(f\"a.shape = {a.shape}, a = {a}\")\n",
    "\n",
    "try: \n",
    "    print(a[0][0])\n",
    "except Exception as e:\n",
    "    print(e)"
   ]
  },
  {
   "cell_type": "markdown",
   "id": "a19b4013",
   "metadata": {},
   "source": [
    "## Operations on Matrices"
   ]
  },
  {
   "cell_type": "code",
   "execution_count": 93,
   "id": "71aabb47",
   "metadata": {},
   "outputs": [
    {
     "name": "stdout",
     "output_type": "stream",
     "text": [
      "a.shape = (3, 2) a = [[0 1]\n",
      " [2 3]\n",
      " [4 5]]\n",
      "\n",
      "a[2,0].shape =  () a[2,0] = 4 type(a[2,0]) = <class 'numpy.int32'>\n",
      "a[2].shape = (2,) a[2] = [4 5] type(a[2]) = <class 'numpy.ndarray'>\n"
     ]
    }
   ],
   "source": [
    "# Indexing\n",
    "a = np.array([[0, 1], [2, 3], [4, 5]])\n",
    "print(f\"a.shape = {a.shape} a = {a}\")\n",
    "\n",
    "# Accessing an element.\n",
    "print(f\"\\na[2,0].shape =  {a[2, 0].shape} a[2,0] = {a[2, 0]} type(a[2,0]) = {type(a[2, 0])}\")\n",
    "\n",
    "# Accessing a row.\n",
    "print(f\"a[2].shape = {a[2].shape} a[2] = {a[2]} type(a[2]) = {type(a[2])}\")"
   ]
  },
  {
   "cell_type": "code",
   "execution_count": 97,
   "id": "99bf8c02",
   "metadata": {},
   "outputs": [
    {
     "name": "stdout",
     "output_type": "stream",
     "text": [
      "a = [0 1 2 3 4 5 6 7 8 9] a.reshape(5, -1) = [[0 1]\n",
      " [2 3]\n",
      " [4 5]\n",
      " [6 7]\n",
      " [8 9]]\n"
     ]
    }
   ],
   "source": [
    "# Reshaping\n",
    "a = np.arange(10)\n",
    "print(f\"a = {a} a.reshape(5, -1) = {a.reshape(5, -1)}\")"
   ]
  },
  {
   "cell_type": "code",
   "execution_count": 104,
   "id": "e6bab8f3",
   "metadata": {},
   "outputs": [
    {
     "name": "stdout",
     "output_type": "stream",
     "text": [
      "a = [[ 0  1  2  3  4  5  6  7  8  9]\n",
      " [10 11 12 13 14 15 16 17 18 19]]\n",
      "a[0, 2:7:1] = [2 3 4 5 6] a[0, 2:7:1].shape = (5,)\n",
      "a[:,:] = [[ 0  1  2  3  4  5  6  7  8  9]\n",
      " [10 11 12 13 14 15 16 17 18 19]] a[:,:].shape = (2, 10)\n",
      "a[1,:] = [10 11 12 13 14 15 16 17 18 19]  a[1,:].shape = (10,)\n",
      "a[1] = [10 11 12 13 14 15 16 17 18 19] a[1].shape = (10,)\n"
     ]
    }
   ],
   "source": [
    "# Slicing\n",
    "a = np.arange(20).reshape(-1, 10)\n",
    "print(f\"a = {a}\")\n",
    "\n",
    "# Access 5 consecutive elements (start:stop:step)\n",
    "print(f\"a[0, 2:7:1] = {a[0, 2:7:1]} a[0, 2:7:1].shape = {a[0, 2:7:1].shape}\")\n",
    "\n",
    "# access all elements\n",
    "print(f\"a[:,:] = {a[:,:]} a[:,:].shape = {a[:,:].shape}\")\n",
    "\n",
    "# access all elements in one row (very common usage)\n",
    "print(f\"a[1,:] = {a[1,:]}  a[1,:].shape = {a[1,:].shape}\")\n",
    "\n",
    "# The above is the same as.\n",
    "print(f\"a[1] = {a[1]} a[1].shape = {a[1].shape}\")"
   ]
  },
  {
   "cell_type": "markdown",
   "id": "148205e1",
   "metadata": {},
   "source": [
    "## Problem Statement\n",
    "We are going to yet again be using housing prices as a motivating factor in our problem. This time the dataset contains three examples, and four different features, these are - Size, Bedrooms, Floors, Age. Then again the label we are trying to predict is the continuous price value/ dependent variable.\n",
    "\n",
    "\n",
    "| Size (sqft) | Number of Bedrooms  | Number of floors | Age of  Home | Price (1000s dollars)  |   \n",
    "| ----------------| ------------------- |----------------- |--------------|-------------- |  \n",
    "| 2104            | 5                   | 1                | 45           | 460           |  \n",
    "| 1416            | 3                   | 2                | 40           | 232           |  \n",
    "| 852             | 2                   | 1                | 35           | 178           |  "
   ]
  },
  {
   "cell_type": "code",
   "execution_count": 106,
   "id": "5f6f8dc6",
   "metadata": {},
   "outputs": [
    {
     "name": "stdout",
     "output_type": "stream",
     "text": [
      "X_train.shape = (3, 4)\n",
      "y_train.shape = (3,)\n"
     ]
    }
   ],
   "source": [
    "X_train = np.array([[2104, 5, 1, 45], [1416, 3, 2, 40], [852, 2, 1, 35]])\n",
    "y_train = np.array([460, 232, 178])\n",
    "print(f\"X_train.shape = {X_train.shape}\")\n",
    "print(f\"y_train.shape = {y_train.shape}\")"
   ]
  },
  {
   "cell_type": "markdown",
   "id": "daaae583",
   "metadata": {},
   "source": [
    "Since we are using multiple features this time w must be a vector representing one value for each feature in X_train, b however is still a scalar. We will select some inital values for w and b for the time being."
   ]
  },
  {
   "cell_type": "code",
   "execution_count": 109,
   "id": "8002d26a",
   "metadata": {},
   "outputs": [
    {
     "name": "stdout",
     "output_type": "stream",
     "text": [
      "w_init.shape = (4,)\n",
      "type(b_init) = <class 'float'>\n"
     ]
    }
   ],
   "source": [
    "b_init = 785.1811367994083\n",
    "w_init = np.array([ 0.39133535, 18.75376741, -53.36032453, -26.42131618])\n",
    "print(f\"w_init.shape = {w_init.shape}\")\n",
    "print(f\"type(b_init) = {type(b_init)}\")"
   ]
  },
  {
   "cell_type": "markdown",
   "id": "2a9dee0f",
   "metadata": {},
   "source": [
    "## Prediction Model with Multiple Variables"
   ]
  },
  {
   "cell_type": "code",
   "execution_count": 110,
   "id": "c14aa190",
   "metadata": {},
   "outputs": [],
   "source": [
    "def lr_for_loop(x, w, b):\n",
    "    \"\"\"\n",
    "    Computes linear regression model using multiple variables.\n",
    "    Arguments:\n",
    "     - X - The training features X_train, length m.\n",
    "     - w - The weight.\n",
    "     - b - The bias.\n",
    "    Returns:\n",
    "     - p - prediction\n",
    "    \"\"\"\n",
    "    m = x.shape[0]\n",
    "    p = 0\n",
    "    for i in range(m):\n",
    "        p_i = x[i] * w[i]\n",
    "        p = p + pi\n",
    "    p += b\n",
    "    \n",
    "    return p"
   ]
  },
  {
   "cell_type": "code",
   "execution_count": 113,
   "id": "e22eee5d",
   "metadata": {},
   "outputs": [
    {
     "name": "stdout",
     "output_type": "stream",
     "text": [
      "First row = [2104    5    1   45]\n"
     ]
    }
   ],
   "source": [
    "# Get a row from the data.\n",
    "a = X_train[0, :]\n",
    "print(f\"First row = {a}\")\n",
    "\n",
    "# Get a prediction for this single row."
   ]
  },
  {
   "cell_type": "code",
   "execution_count": null,
   "id": "09d923ca",
   "metadata": {},
   "outputs": [],
   "source": []
  }
 ],
 "metadata": {
  "kernelspec": {
   "display_name": "Python 3 (ipykernel)",
   "language": "python",
   "name": "python3"
  },
  "language_info": {
   "codemirror_mode": {
    "name": "ipython",
    "version": 3
   },
   "file_extension": ".py",
   "mimetype": "text/x-python",
   "name": "python",
   "nbconvert_exporter": "python",
   "pygments_lexer": "ipython3",
   "version": "3.11.5"
  }
 },
 "nbformat": 4,
 "nbformat_minor": 5
}
