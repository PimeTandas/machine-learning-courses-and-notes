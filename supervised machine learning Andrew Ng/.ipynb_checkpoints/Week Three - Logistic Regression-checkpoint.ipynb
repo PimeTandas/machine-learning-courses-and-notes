{
 "cells": [
  {
   "cell_type": "markdown",
   "id": "3815ca21",
   "metadata": {},
   "source": [
    "# Week Three - Classification Logistic Regression\n",
    "In this note book I will be looking at soliving classification problems using logistic regression. For the first section I shall be using the training data created below:"
   ]
  },
  {
   "cell_type": "code",
   "execution_count": 1,
   "id": "d8be2928",
   "metadata": {},
   "outputs": [],
   "source": [
    "import numpy as np\n",
    "import pandas as pd\n",
    "import matplotlib.pyplot as plt"
   ]
  },
  {
   "cell_type": "markdown",
   "id": "fee05644",
   "metadata": {},
   "source": [
    "## Sigmoid/ Logisitic Function \n",
    "We can use our linear regression model:$$f_{\\mathbf{w},b}(\\mathbf{x}^{(i)}) = \\mathbf{w} \\cdot  \\mathbf{x}^{(i)} + b$$\n",
    "\n",
    "However for classification we want our outcome to be between 0 and 1. This is accompished by using \"sigmoid function which maps all input values to values between  0 and 1. We will implement this sigmoid function below: \n",
    "\n",
    "$$g(z) = \\frac{1}{1+e^{-z}}$$\n",
    "\n",
    "In this case of logistic regression z, the input to the logistic regression function is the output to our linear regression function. In this case z is a scalar.\n",
    "\n",
    "Numpy has a useful function called exp() which offers a convient way to calulate the exponental of $e^{z}$. This gives us an array of all values of input $e^{z}$."
   ]
  },
  {
   "cell_type": "code",
   "execution_count": 2,
   "id": "e44a4da4",
   "metadata": {},
   "outputs": [
    {
     "name": "stdout",
     "output_type": "stream",
     "text": [
      "Input to exp: 1\n",
      "Output of exp: 2.718281828459045\n",
      "Input to exp: [1 2 3]\n",
      "Output of exp: [ 2.71828183  7.3890561  20.08553692]\n"
     ]
    }
   ],
   "source": [
    "# Input as a single scalar value.\n",
    "input_val = 1\n",
    "exp_val = np.exp(input_val)\n",
    "\n",
    "print(\"Input to exp:\", input_val)\n",
    "print(\"Output of exp:\", exp_val)\n",
    "\n",
    "# Input as an array.\n",
    "input_array = np.array([1,2,3])\n",
    "exp_array = np.exp(input_array)\n",
    "\n",
    "print(\"Input to exp:\", input_array)\n",
    "print(\"Output of exp:\", exp_array)"
   ]
  },
  {
   "cell_type": "markdown",
   "id": "ec9f64a3",
   "metadata": {},
   "source": [
    "Now we know how to get the exponental of a value we can now move onto the sigmoid function in python. "
   ]
  },
  {
   "cell_type": "code",
   "execution_count": 3,
   "id": "b8ffc650",
   "metadata": {},
   "outputs": [],
   "source": [
    "def sigmoid(z):\n",
    "    \"\"\"\n",
    "    Computes the sigmoid, given a value or array of z.\n",
    "    Arguments:\n",
    "     - z - A numpy array of any size. \n",
    "    Returns:\n",
    "     - g - sigmoid(z), which has the same shape a input z.\n",
    "    \"\"\"\n",
    "    g = 1/(1+np.exp(-z))\n",
    "    \n",
    "    return g"
   ]
  },
  {
   "cell_type": "code",
   "execution_count": 4,
   "id": "4b2a6be1",
   "metadata": {},
   "outputs": [
    {
     "name": "stdout",
     "output_type": "stream",
     "text": [
      "Input (z), Output (sigmoid(z))\n",
      "[[-1.000e+01  4.540e-05]\n",
      " [-9.000e+00  1.234e-04]\n",
      " [-8.000e+00  3.354e-04]\n",
      " [-7.000e+00  9.111e-04]\n",
      " [-6.000e+00  2.473e-03]\n",
      " [-5.000e+00  6.693e-03]\n",
      " [-4.000e+00  1.799e-02]\n",
      " [-3.000e+00  4.743e-02]\n",
      " [-2.000e+00  1.192e-01]\n",
      " [-1.000e+00  2.689e-01]\n",
      " [ 0.000e+00  5.000e-01]\n",
      " [ 1.000e+00  7.311e-01]\n",
      " [ 2.000e+00  8.808e-01]\n",
      " [ 3.000e+00  9.526e-01]\n",
      " [ 4.000e+00  9.820e-01]\n",
      " [ 5.000e+00  9.933e-01]\n",
      " [ 6.000e+00  9.975e-01]\n",
      " [ 7.000e+00  9.991e-01]\n",
      " [ 8.000e+00  9.997e-01]\n",
      " [ 9.000e+00  9.999e-01]]\n"
     ]
    }
   ],
   "source": [
    "z = np.arange(-10, 10)\n",
    "\n",
    "y = sigmoid(z)\n",
    "\n",
    "np.set_printoptions(precision=3) \n",
    "print(\"Input (z), Output (sigmoid(z))\")\n",
    "print(np.c_[z, y])"
   ]
  },
  {
   "cell_type": "code",
   "execution_count": 5,
   "id": "5895af9f",
   "metadata": {},
   "outputs": [
    {
     "data": {
      "text/plain": [
       "Text(0.5, 0, 'z')"
      ]
     },
     "execution_count": 5,
     "metadata": {},
     "output_type": "execute_result"
    },
    {
     "data": {
      "image/png": "[encoded data removed]",
      "text/plain": [
       "<Figure size 500x300 with 1 Axes>"
      ]
     },
     "metadata": {},
     "output_type": "display_data"
    }
   ],
   "source": [
    "fig,ax = plt.subplots(1,1,figsize=(5,3))\n",
    "ax.plot(z, y, c=\"b\")\n",
    "ax.set_title(\"Sigmoid function\")\n",
    "ax.set_ylabel('sigmoid(z)')\n",
    "ax.set_xlabel('z')"
   ]
  },
  {
   "cell_type": "markdown",
   "id": "e53c8b15",
   "metadata": {},
   "source": [
    "As we can see as sigmoid(z) goes towards zero it zero it becomes a large negitive number and as it tends towards 1 z becomes a large positive number."
   ]
  },
  {
   "cell_type": "markdown",
   "id": "8cc53e1e",
   "metadata": {},
   "source": [
    "## Dataset"
   ]
  },
  {
   "cell_type": "code",
   "execution_count": 10,
   "id": "3f03cd9d",
   "metadata": {},
   "outputs": [],
   "source": [
    "X = np.array([[0.5, 1.5], \n",
    "              [1,1], \n",
    "              [1.5, 0.5], \n",
    "              [3, 0.5], \n",
    "              [2, 2], \n",
    "              [1, 2.5]])\n",
    "y = np.array([0, 0, 0, 1, 1, 1]).reshape(-1,1)"
   ]
  },
  {
   "cell_type": "markdown",
   "id": "8baf8c6b",
   "metadata": {},
   "source": [
    "We want to train a logistic regression model on this data using:\n",
    "$$f(x) = g(w_0x_0+w_1x_1 + b)$$\n",
    "where g is:\n",
    "$$g(z) = \\frac{1}{1+e^{-z}}$$\n",
    "\n",
    "Lets for simplicity sake say we train the model and find values for w0, w1 and b that are: $w_0 = 1, w_1 = 1, b = -3$\n",
    "\n",
    "Meaning that the first equation above becomes:\n",
    "$$f(x) = g(1*x_0+1*x_1 -3)$$\n",
    "\n",
    "We will look at how to obtain these paramaters later.\n",
    "\n",
    "Remeber that the graph above shows us that if we were to draw a boundry at g(z) >= 0.5 when z >= 0 & and beacuse z = (w X) + b Meaning:\n",
    "  $$if \\mathbf{w} \\cdot \\mathbf{x} + b >= 0, the model predicts $y=1$$\n",
    "  \n",
    "  $$if \\mathbf{w} \\cdot \\mathbf{x} + b < 0, the model predicts $y=0$$\n",
    "  "
   ]
  },
  {
   "cell_type": "markdown",
   "id": "d22afa79",
   "metadata": {},
   "source": [
    "## Loss Function\n",
    "Recall that for linear regression we used the <b>squared error cost function</b>. This cost function works well for linear regression, however it since the sigmoid function is a non linear component using the same cost function creates a horrible function with many local minimas and direction changes. Instead we shall look at the cost function explained below:"
   ]
  },
  {
   "cell_type": "markdown",
   "id": "3cec2dbd",
   "metadata": {},
   "source": [
    "## Logistic Regression Cost Function\n",
    "Logistic regression uses a loss fuction more suited for the task of classification.\n",
    "\n",
    "$loss(f_{\\mathbf{w},b}(\\mathbf{x}^{(i)}), y^{(i)})$ is the cost for a single data point, which is:\n",
    "\n",
    "\\begin{equation}\n",
    "  loss(f_{\\mathbf{w},b}(\\mathbf{x}^{(i)}), y^{(i)}) = \\begin{cases}\n",
    "    - \\log\\left(f_{\\mathbf{w},b}\\left( \\mathbf{x}^{(i)} \\right) \\right) & \\text{if $y^{(i)}=1$}\\\\\n",
    "    - \\log \\left( 1 - f_{\\mathbf{w},b}\\left( \\mathbf{x}^{(i)} \\right) \\right) & \\text{if $y^{(i)}=0$}\n",
    "  \\end{cases}\n",
    "\\end{equation}\n",
    "\n",
    "The defining feature of this loss function is that it features two seperate curves. One for when the target is y=0 and when for when the target is y=1."
   ]
  },
  {
   "cell_type": "code",
   "execution_count": null,
   "id": "1f51535c",
   "metadata": {},
   "outputs": [],
   "source": []
  }
 ],
 "metadata": {
  "kernelspec": {
   "display_name": "Python 3 (ipykernel)",
   "language": "python",
   "name": "python3"
  },
  "language_info": {
   "codemirror_mode": {
    "name": "ipython",
    "version": 3
   },
   "file_extension": ".py",
   "mimetype": "text/x-python",
   "name": "python",
   "nbconvert_exporter": "python",
   "pygments_lexer": "ipython3",
   "version": "3.11.5"
  }
 },
 "nbformat": 4,
 "nbformat_minor": 5
}
