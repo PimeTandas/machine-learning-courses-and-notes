{
 "cells": [
  {
   "cell_type": "markdown",
   "id": "6a555600",
   "metadata": {},
   "source": [
    "# Polynomial Regression\n",
    "\n",
    "Polynomial Regression is a non linear regression model used tackle non linear data.\n",
    "We will be looking at a senario where a HR department has collected the data found in Salary_Data.csv."
   ]
  },
  {
   "cell_type": "markdown",
   "id": "731b20db",
   "metadata": {},
   "source": [
    "## Import Libraries"
   ]
  },
  {
   "cell_type": "code",
   "execution_count": 22,
   "id": "294735ee",
   "metadata": {},
   "outputs": [],
   "source": [
    "import pandas as pd \n",
    "import numpy as np\n",
    "import matplotlib.pyplot as plt\n",
    "from sklearn.linear_model import LinearRegression"
   ]
  },
  {
   "cell_type": "markdown",
   "id": "785003b0",
   "metadata": {},
   "source": [
    "## Importing the Data"
   ]
  },
  {
   "cell_type": "code",
   "execution_count": 21,
   "id": "1bd76b8d",
   "metadata": {},
   "outputs": [],
   "source": [
    "df = pd.read_csv('Datasets/Position_Salaries.csv')\n",
    "X = df.iloc[:, 1:-1].values \n",
    "y = df.iloc[:, -1].values"
   ]
  },
  {
   "cell_type": "markdown",
   "id": "8cdb0679",
   "metadata": {},
   "source": [
    "## Training a Linear Regression Model"
   ]
  },
  {
   "cell_type": "code",
   "execution_count": 30,
   "id": "8a82aee7",
   "metadata": {},
   "outputs": [
    {
     "data": {
      "text/plain": [
       "array([-33575.75757576])"
      ]
     },
     "execution_count": 30,
     "metadata": {},
     "output_type": "execute_result"
    }
   ],
   "source": [
    "myLR = LinearRegression()\n",
    "myLR.fit(X, y)\n",
    "myLR.predict([[2]])"
   ]
  },
  {
   "cell_type": "code",
   "execution_count": null,
   "id": "18d6056d",
   "metadata": {},
   "outputs": [],
   "source": []
  }
 ],
 "metadata": {
  "kernelspec": {
   "display_name": "Python 3 (ipykernel)",
   "language": "python",
   "name": "python3"
  },
  "language_info": {
   "codemirror_mode": {
    "name": "ipython",
    "version": 3
   },
   "file_extension": ".py",
   "mimetype": "text/x-python",
   "name": "python",
   "nbconvert_exporter": "python",
   "pygments_lexer": "ipython3",
   "version": "3.11.5"
  }
 },
 "nbformat": 4,
 "nbformat_minor": 5
}
